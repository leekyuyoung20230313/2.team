{
  "nbformat": 4,
  "nbformat_minor": 0,
  "metadata": {
    "colab": {
      "provenance": [],
      "gpuType": "T4"
    },
    "kernelspec": {
      "name": "python3",
      "display_name": "Python 3"
    },
    "language_info": {
      "name": "python"
    },
    "accelerator": "GPU"
  },
  "cells": [
    {
      "cell_type": "code",
      "execution_count": 1,
      "metadata": {
        "id": "vcD5oYnm0DzE"
      },
      "outputs": [],
      "source": [
        "import os\n",
        "import json\n",
        "import zipfile\n",
        "import shutil\n",
        "import glob\n",
        "import pandas as pd\n",
        "import numpy as np\n",
        "import cv2\n",
        "import yaml\n",
        "from tqdm import tqdm"
      ]
    },
    {
      "cell_type": "code",
      "source": [
        "!pip install ultralytics"
      ],
      "metadata": {
        "colab": {
          "base_uri": "https://localhost:8080/"
        },
        "id": "IbFeTE2G0amU",
        "outputId": "6e74f927-e8fb-43c6-d207-65f127935890"
      },
      "execution_count": 2,
      "outputs": [
        {
          "output_type": "stream",
          "name": "stdout",
          "text": [
            "Collecting ultralytics\n",
            "  Downloading ultralytics-8.0.150-py3-none-any.whl (614 kB)\n",
            "\u001b[2K     \u001b[90m━━━━━━━━━━━━━━━━━━━━━━━━━━━━━━━━━━━━━━\u001b[0m \u001b[32m614.9/614.9 kB\u001b[0m \u001b[31m10.1 MB/s\u001b[0m eta \u001b[36m0:00:00\u001b[0m\n",
            "\u001b[?25hRequirement already satisfied: matplotlib>=3.2.2 in /usr/local/lib/python3.10/dist-packages (from ultralytics) (3.7.1)\n",
            "Requirement already satisfied: numpy>=1.22.2 in /usr/local/lib/python3.10/dist-packages (from ultralytics) (1.23.5)\n",
            "Requirement already satisfied: opencv-python>=4.6.0 in /usr/local/lib/python3.10/dist-packages (from ultralytics) (4.7.0.72)\n",
            "Requirement already satisfied: pillow>=7.1.2 in /usr/local/lib/python3.10/dist-packages (from ultralytics) (9.4.0)\n",
            "Requirement already satisfied: pyyaml>=5.3.1 in /usr/local/lib/python3.10/dist-packages (from ultralytics) (6.0.1)\n",
            "Requirement already satisfied: requests>=2.23.0 in /usr/local/lib/python3.10/dist-packages (from ultralytics) (2.31.0)\n",
            "Requirement already satisfied: scipy>=1.4.1 in /usr/local/lib/python3.10/dist-packages (from ultralytics) (1.10.1)\n",
            "Requirement already satisfied: torch>=1.7.0 in /usr/local/lib/python3.10/dist-packages (from ultralytics) (2.0.1+cu118)\n",
            "Requirement already satisfied: torchvision>=0.8.1 in /usr/local/lib/python3.10/dist-packages (from ultralytics) (0.15.2+cu118)\n",
            "Requirement already satisfied: tqdm>=4.64.0 in /usr/local/lib/python3.10/dist-packages (from ultralytics) (4.65.0)\n",
            "Requirement already satisfied: pandas>=1.1.4 in /usr/local/lib/python3.10/dist-packages (from ultralytics) (1.5.3)\n",
            "Requirement already satisfied: seaborn>=0.11.0 in /usr/local/lib/python3.10/dist-packages (from ultralytics) (0.12.2)\n",
            "Requirement already satisfied: psutil in /usr/local/lib/python3.10/dist-packages (from ultralytics) (5.9.5)\n",
            "Requirement already satisfied: py-cpuinfo in /usr/local/lib/python3.10/dist-packages (from ultralytics) (9.0.0)\n",
            "Requirement already satisfied: contourpy>=1.0.1 in /usr/local/lib/python3.10/dist-packages (from matplotlib>=3.2.2->ultralytics) (1.1.0)\n",
            "Requirement already satisfied: cycler>=0.10 in /usr/local/lib/python3.10/dist-packages (from matplotlib>=3.2.2->ultralytics) (0.11.0)\n",
            "Requirement already satisfied: fonttools>=4.22.0 in /usr/local/lib/python3.10/dist-packages (from matplotlib>=3.2.2->ultralytics) (4.42.0)\n",
            "Requirement already satisfied: kiwisolver>=1.0.1 in /usr/local/lib/python3.10/dist-packages (from matplotlib>=3.2.2->ultralytics) (1.4.4)\n",
            "Requirement already satisfied: packaging>=20.0 in /usr/local/lib/python3.10/dist-packages (from matplotlib>=3.2.2->ultralytics) (23.1)\n",
            "Requirement already satisfied: pyparsing>=2.3.1 in /usr/local/lib/python3.10/dist-packages (from matplotlib>=3.2.2->ultralytics) (3.1.1)\n",
            "Requirement already satisfied: python-dateutil>=2.7 in /usr/local/lib/python3.10/dist-packages (from matplotlib>=3.2.2->ultralytics) (2.8.2)\n",
            "Requirement already satisfied: pytz>=2020.1 in /usr/local/lib/python3.10/dist-packages (from pandas>=1.1.4->ultralytics) (2022.7.1)\n",
            "Requirement already satisfied: charset-normalizer<4,>=2 in /usr/local/lib/python3.10/dist-packages (from requests>=2.23.0->ultralytics) (3.2.0)\n",
            "Requirement already satisfied: idna<4,>=2.5 in /usr/local/lib/python3.10/dist-packages (from requests>=2.23.0->ultralytics) (3.4)\n",
            "Requirement already satisfied: urllib3<3,>=1.21.1 in /usr/local/lib/python3.10/dist-packages (from requests>=2.23.0->ultralytics) (1.26.16)\n",
            "Requirement already satisfied: certifi>=2017.4.17 in /usr/local/lib/python3.10/dist-packages (from requests>=2.23.0->ultralytics) (2023.7.22)\n",
            "Requirement already satisfied: filelock in /usr/local/lib/python3.10/dist-packages (from torch>=1.7.0->ultralytics) (3.12.2)\n",
            "Requirement already satisfied: typing-extensions in /usr/local/lib/python3.10/dist-packages (from torch>=1.7.0->ultralytics) (4.7.1)\n",
            "Requirement already satisfied: sympy in /usr/local/lib/python3.10/dist-packages (from torch>=1.7.0->ultralytics) (1.11.1)\n",
            "Requirement already satisfied: networkx in /usr/local/lib/python3.10/dist-packages (from torch>=1.7.0->ultralytics) (3.1)\n",
            "Requirement already satisfied: jinja2 in /usr/local/lib/python3.10/dist-packages (from torch>=1.7.0->ultralytics) (3.1.2)\n",
            "Requirement already satisfied: triton==2.0.0 in /usr/local/lib/python3.10/dist-packages (from torch>=1.7.0->ultralytics) (2.0.0)\n",
            "Requirement already satisfied: cmake in /usr/local/lib/python3.10/dist-packages (from triton==2.0.0->torch>=1.7.0->ultralytics) (3.25.2)\n",
            "Requirement already satisfied: lit in /usr/local/lib/python3.10/dist-packages (from triton==2.0.0->torch>=1.7.0->ultralytics) (16.0.6)\n",
            "Requirement already satisfied: six>=1.5 in /usr/local/lib/python3.10/dist-packages (from python-dateutil>=2.7->matplotlib>=3.2.2->ultralytics) (1.16.0)\n",
            "Requirement already satisfied: MarkupSafe>=2.0 in /usr/local/lib/python3.10/dist-packages (from jinja2->torch>=1.7.0->ultralytics) (2.1.3)\n",
            "Requirement already satisfied: mpmath>=0.19 in /usr/local/lib/python3.10/dist-packages (from sympy->torch>=1.7.0->ultralytics) (1.3.0)\n",
            "Installing collected packages: ultralytics\n",
            "Successfully installed ultralytics-8.0.150\n"
          ]
        }
      ]
    },
    {
      "cell_type": "code",
      "source": [
        "from ultralytics import YOLO, checks, hub\n",
        "checks()"
      ],
      "metadata": {
        "colab": {
          "base_uri": "https://localhost:8080/"
        },
        "id": "FJj_RNNM0cXs",
        "outputId": "14304400-a8fd-4c9a-a378-bf5606e72453"
      },
      "execution_count": 3,
      "outputs": [
        {
          "output_type": "stream",
          "name": "stderr",
          "text": [
            "Ultralytics YOLOv8.0.150 🚀 Python-3.10.12 torch-2.0.1+cu118 CUDA:0 (Tesla T4, 15102MiB)\n",
            "Setup complete ✅ (2 CPUs, 12.7 GB RAM, 24.4/166.8 GB disk)\n"
          ]
        }
      ]
    },
    {
      "cell_type": "code",
      "source": [
        "SEED = 42\n",
        "BATCH_SIZE = 4\n",
        "MODEL = \"trained_model\" # 학습한 모델에 대한 정보\n",
        "EPOCH = 100"
      ],
      "metadata": {
        "id": "Uw4TSFBw0kR-"
      },
      "execution_count": 44,
      "outputs": []
    },
    {
      "cell_type": "code",
      "source": [
        "!unzip /content/train.zip -d train\n",
        "!unzip /content/test.zip -d test\n",
        "!unzip /content/val.zip -d val"
      ],
      "metadata": {
        "colab": {
          "base_uri": "https://localhost:8080/"
        },
        "id": "KBcRUrtK0vCu",
        "outputId": "e393cf55-2a76-4f4b-c2ea-37e67605944d"
      },
      "execution_count": 5,
      "outputs": [
        {
          "output_type": "stream",
          "name": "stdout",
          "text": [
            "Archive:  /content/train.zip\n",
            "  inflating: train/syn_00000.png     \n",
            "  inflating: train/syn_00500.png     \n",
            "  inflating: train/syn_01000.png     \n",
            "  inflating: train/syn_01500.png     \n",
            "  inflating: train/syn_02000.png     \n",
            "  inflating: train/syn_02500.png     \n",
            "  inflating: train/syn_03000.png     \n",
            "  inflating: train/syn_03500.png     \n",
            "  inflating: train/syn_04000.png     \n",
            "  inflating: train/syn_04500.png     \n",
            "Archive:  /content/test.zip\n",
            "  inflating: test/064442001.png      \n",
            "  inflating: test/100522633.png      \n",
            "  inflating: test/114150029.png      \n",
            "  inflating: test/133342232.png      \n",
            "  inflating: test/144738964.png      \n",
            "Archive:  /content/val.zip\n",
            "  inflating: val/syn_05000.png       \n",
            "  inflating: val/syn_05500.png       \n",
            "  inflating: val/syn_06000.png       \n"
          ]
        }
      ]
    },
    {
      "cell_type": "code",
      "source": [
        "# 작업한 파일 담을 폴더 생성\n",
        "if os.path.exists(\"./data\"):\n",
        "    shutil.rmtree(\"./data\")\n",
        "\n",
        "if not os.path.exists(\"./data/train\"):\n",
        "    os.makedirs(\"./data/train\")\n",
        "\n",
        "if not os.path.exists(\"./data/val\"):\n",
        "    os.makedirs(\"./data/val\")\n",
        "\n",
        "if not os.path.exists(\"./data/test\"):\n",
        "    os.makedirs(\"./data/test\")\n",
        "\n",
        "if not os.path.exists(\"./results\"):\n",
        "    os.makedirs(\"./results\")"
      ],
      "metadata": {
        "id": "VvqgXgOoFB9k"
      },
      "execution_count": null,
      "outputs": []
    },
    {
      "cell_type": "code",
      "source": [
        "# txt 파일을 욜로 학습용 txt로 변환\n",
        "def make_yolo_dataset(image_paths, txt_paths, type=\"train\"):\n",
        "    for image_path, txt_path in tqdm(zip(image_paths, txt_paths if not type == \"test\" else image_paths), total=len(image_paths)):\n",
        "        source_image = cv2.imread(image_path, cv2.IMREAD_COLOR)\n",
        "        image_height, image_width, _ = source_image.shape\n",
        "\n",
        "        target_image_path = f\"./data/{type}/{os.path.basename(image_path)}\"\n",
        "        cv2.imwrite(target_image_path, source_image)\n",
        "\n",
        "        if type == \"test\":\n",
        "            continue\n",
        "\n",
        "        with open(txt_path, \"r\") as reader:\n",
        "            yolo_labels = []\n",
        "            for line in reader.readlines():\n",
        "                line = list(map(float, line.strip().split(\" \")))\n",
        "                class_name = int(line[0])\n",
        "                x_min, y_min = float(min(line[5], line[7])), float(min(line[6], line[8]))\n",
        "                x_max, y_max = float(max(line[1], line[3])), float(max(line[2], line[4]))\n",
        "                x, y = float(((x_min + x_max) / 2) / image_width), float(((y_min + y_max) / 2) / image_height)\n",
        "                w, h = abs(x_max - x_min) / image_width, abs(y_max - y_min) / image_height\n",
        "                yolo_labels.append(f\"{class_name} {x} {y} {w} {h}\")\n",
        "\n",
        "        target_label_txt = f\"./data/{type}/{os.path.basename(txt_path)}\"\n",
        "        with open(target_label_txt, \"w\") as writer:\n",
        "            for yolo_label in yolo_labels:\n",
        "                writer.write(f\"{yolo_label}\\n\")"
      ],
      "metadata": {
        "id": "GHBMjy7C1NFM"
      },
      "execution_count": 10,
      "outputs": []
    },
    {
      "cell_type": "code",
      "source": [
        "# 원본 이미지와 텍스트가 있는 경로\n",
        "train_images_paths = glob.glob(\"/content/train/*.png\")\n",
        "train_txt_paths = glob.glob(\"/content/train/*.txt\")\n",
        "\n",
        "valid_images_paths = glob.glob(\"/content/val/*.png\")\n",
        "valid_txt_paths = glob.glob(\"/content/val/*.txt\")\n",
        "\n",
        "make_yolo_dataset(train_images_paths, train_txt_paths, \"train\")\n",
        "make_yolo_dataset(valid_images_paths, valid_txt_paths, \"val\")\n",
        "make_yolo_dataset(sorted(glob.glob(\"/content/test/*.png\")), None, \"test\")"
      ],
      "metadata": {
        "colab": {
          "base_uri": "https://localhost:8080/"
        },
        "id": "0vupON5z1a5T",
        "outputId": "14becbb4-0738-4f31-c655-bb30d4629318"
      },
      "execution_count": 12,
      "outputs": [
        {
          "output_type": "stream",
          "name": "stderr",
          "text": [
            "100%|██████████| 10/10 [00:01<00:00,  5.43it/s]\n",
            "100%|██████████| 3/3 [00:00<00:00,  5.30it/s]\n",
            "100%|██████████| 5/5 [00:00<00:00,  6.18it/s]\n"
          ]
        }
      ]
    },
    {
      "cell_type": "code",
      "source": [
        "with open(\"/content/classes.txt\", \"r\") as reader: # 클래스 정보가 있는 경로\n",
        "    lines = reader.readlines()\n",
        "    classes = [line.strip().split(\",\")[1] for line in lines]\n",
        "\n",
        "# yaml 데이터 생성\n",
        "yaml_data = {\n",
        "              \"names\": classes,\n",
        "              \"nc\": len(classes),\n",
        "              \"train\": \"/content/data/train/\", # 이미지와 욜로용 txt가 있는 폴더 경로 설정\n",
        "              \"val\": \"/content/data/val/\",\n",
        "              \"test\": \"/content/data/test\",\n",
        "              \"hsv_h\": 0.015,  # image HSV-Hue augmentation (fraction)\n",
        "              \"hsv_s\": 0.7,  # image HSV-Saturation augmentation (fraction)\n",
        "              \"hsv_v\": 0.4,  # image HSV-Value augmentation (fraction)\n",
        "              \"degrees\": 0.5,  # image rotation (+/- deg)\n",
        "              \"translate\": 0.1,  # image translation (+/- fraction)\n",
        "              \"scale\": 0.2,  # image scale (+/- gain)\n",
        "              \"fliplr\": 0.5, # image flip left-right (probability)\n",
        "              \"mosaic\": 0.3,  # image mosaic (probability)\n",
        "              \"mixup\": 0.1  # image mixup (probability)\n",
        "            }\n",
        "\n",
        "with open(\"/content/data/data.yaml\", \"w\") as writer: # 위에서 만든 yaml 데이터 경로 설정\n",
        "    yaml.dump(yaml_data, writer)"
      ],
      "metadata": {
        "id": "npOwfgWm0nn-"
      },
      "execution_count": 39,
      "outputs": []
    },
    {
      "cell_type": "code",
      "source": [
        "# 욜로 모델 학습\n",
        "model = YOLO(\"yolov8n\")\n",
        "print(type(model.names), len(model.names))\n",
        "\n",
        "print(model.names)\n",
        "results = model.train(\n",
        "    data=\"/content/data/data.yaml\", # yaml 데이터가 있는 경로\n",
        "    imgsz=640,\n",
        "    epochs=EPOCH,\n",
        "    batch=BATCH_SIZE,\n",
        "    patience=5,\n",
        "    workers=16,\n",
        "    device=0,\n",
        "    project=f\"{MODEL}\", # 학습한 내용을 저장할 폴더명\n",
        "    seed=SEED,\n",
        "    optimizer=\"AdamW\",\n",
        "    lr0=1e-3,\n",
        "    hsv_h= 0.015,  # image HSV-Hue augmentation (fraction)\n",
        "    hsv_s= 0.7,  # image HSV-Saturation augmentation (fraction)\n",
        "    hsv_v= 0.4,  # image HSV-Value augmentation (fraction)\n",
        "    degrees= 0.5,  # image rotation (+/- deg)\n",
        "    translate= 0.1,  # image translation (+/- fraction)\n",
        "    scale= 0.2,  # image scale (+/- gain)\n",
        "    fliplr= 0.5, # image flip left-right (probability)\n",
        "    mosaic= 0.3,  # image mosaic (probability)\n",
        "    mixup= 0.1  # image mixup (probability)\n",
        "    )"
      ],
      "metadata": {
        "colab": {
          "base_uri": "https://localhost:8080/"
        },
        "id": "4dq0Jmrd06C0",
        "outputId": "2d1abb0a-3798-4a80-c4d0-61713aecbd90"
      },
      "execution_count": 45,
      "outputs": [
        {
          "output_type": "stream",
          "name": "stderr",
          "text": [
            "Ultralytics YOLOv8.0.150 🚀 Python-3.10.12 torch-2.0.1+cu118 CUDA:0 (Tesla T4, 15102MiB)\n",
            "\u001b[34m\u001b[1mengine/trainer: \u001b[0mtask=detect, mode=train, model=yolov8n.pt, data=/content/data/data.yaml, epochs=100, patience=5, batch=4, imgsz=640, save=True, save_period=-1, cache=False, device=0, workers=16, project=trained_model, name=None, exist_ok=False, pretrained=True, optimizer=AdamW, verbose=True, seed=42, deterministic=True, single_cls=False, rect=False, cos_lr=False, close_mosaic=10, resume=False, amp=True, fraction=1.0, profile=False, overlap_mask=True, mask_ratio=4, dropout=0.0, val=True, split=val, save_json=False, save_hybrid=False, conf=None, iou=0.7, max_det=300, half=False, dnn=False, plots=True, source=None, show=False, save_txt=False, save_conf=False, save_crop=False, show_labels=True, show_conf=True, vid_stride=1, line_width=None, visualize=False, augment=False, agnostic_nms=False, classes=None, retina_masks=False, boxes=True, format=torchscript, keras=False, optimize=False, int8=False, dynamic=False, simplify=False, opset=None, workspace=4, nms=False, lr0=0.001, lrf=0.01, momentum=0.937, weight_decay=0.0005, warmup_epochs=3.0, warmup_momentum=0.8, warmup_bias_lr=0.1, box=7.5, cls=0.5, dfl=1.5, pose=12.0, kobj=1.0, label_smoothing=0.0, nbs=64, hsv_h=0.015, hsv_s=0.7, hsv_v=0.4, degrees=0.5, translate=0.1, scale=0.2, shear=0.0, perspective=0.0, flipud=0.0, fliplr=0.5, mosaic=0.3, mixup=0.1, copy_paste=0.0, cfg=None, tracker=botsort.yaml, save_dir=trained_model/train2\n",
            "Overriding model.yaml nc=80 with nc=34\n",
            "\n",
            "                   from  n    params  module                                       arguments                     \n",
            "  0                  -1  1       464  ultralytics.nn.modules.conv.Conv             [3, 16, 3, 2]                 \n",
            "  1                  -1  1      4672  ultralytics.nn.modules.conv.Conv             [16, 32, 3, 2]                \n",
            "  2                  -1  1      7360  ultralytics.nn.modules.block.C2f             [32, 32, 1, True]             \n",
            "  3                  -1  1     18560  ultralytics.nn.modules.conv.Conv             [32, 64, 3, 2]                \n",
            "  4                  -1  2     49664  ultralytics.nn.modules.block.C2f             [64, 64, 2, True]             \n",
            "  5                  -1  1     73984  ultralytics.nn.modules.conv.Conv             [64, 128, 3, 2]               \n",
            "  6                  -1  2    197632  ultralytics.nn.modules.block.C2f             [128, 128, 2, True]           \n",
            "  7                  -1  1    295424  ultralytics.nn.modules.conv.Conv             [128, 256, 3, 2]              \n",
            "  8                  -1  1    460288  ultralytics.nn.modules.block.C2f             [256, 256, 1, True]           \n",
            "  9                  -1  1    164608  ultralytics.nn.modules.block.SPPF            [256, 256, 5]                 \n",
            " 10                  -1  1         0  torch.nn.modules.upsampling.Upsample         [None, 2, 'nearest']          \n",
            " 11             [-1, 6]  1         0  ultralytics.nn.modules.conv.Concat           [1]                           \n",
            " 12                  -1  1    148224  ultralytics.nn.modules.block.C2f             [384, 128, 1]                 \n",
            " 13                  -1  1         0  torch.nn.modules.upsampling.Upsample         [None, 2, 'nearest']          \n",
            " 14             [-1, 4]  1         0  ultralytics.nn.modules.conv.Concat           [1]                           \n",
            " 15                  -1  1     37248  ultralytics.nn.modules.block.C2f             [192, 64, 1]                  \n",
            " 16                  -1  1     36992  ultralytics.nn.modules.conv.Conv             [64, 64, 3, 2]                \n",
            " 17            [-1, 12]  1         0  ultralytics.nn.modules.conv.Concat           [1]                           \n"
          ]
        },
        {
          "output_type": "stream",
          "name": "stdout",
          "text": [
            "<class 'dict'> 80\n",
            "{0: 'person', 1: 'bicycle', 2: 'car', 3: 'motorcycle', 4: 'airplane', 5: 'bus', 6: 'train', 7: 'truck', 8: 'boat', 9: 'traffic light', 10: 'fire hydrant', 11: 'stop sign', 12: 'parking meter', 13: 'bench', 14: 'bird', 15: 'cat', 16: 'dog', 17: 'horse', 18: 'sheep', 19: 'cow', 20: 'elephant', 21: 'bear', 22: 'zebra', 23: 'giraffe', 24: 'backpack', 25: 'umbrella', 26: 'handbag', 27: 'tie', 28: 'suitcase', 29: 'frisbee', 30: 'skis', 31: 'snowboard', 32: 'sports ball', 33: 'kite', 34: 'baseball bat', 35: 'baseball glove', 36: 'skateboard', 37: 'surfboard', 38: 'tennis racket', 39: 'bottle', 40: 'wine glass', 41: 'cup', 42: 'fork', 43: 'knife', 44: 'spoon', 45: 'bowl', 46: 'banana', 47: 'apple', 48: 'sandwich', 49: 'orange', 50: 'broccoli', 51: 'carrot', 52: 'hot dog', 53: 'pizza', 54: 'donut', 55: 'cake', 56: 'chair', 57: 'couch', 58: 'potted plant', 59: 'bed', 60: 'dining table', 61: 'toilet', 62: 'tv', 63: 'laptop', 64: 'mouse', 65: 'remote', 66: 'keyboard', 67: 'cell phone', 68: 'microwave', 69: 'oven', 70: 'toaster', 71: 'sink', 72: 'refrigerator', 73: 'book', 74: 'clock', 75: 'vase', 76: 'scissors', 77: 'teddy bear', 78: 'hair drier', 79: 'toothbrush'}\n"
          ]
        },
        {
          "output_type": "stream",
          "name": "stderr",
          "text": [
            " 18                  -1  1    123648  ultralytics.nn.modules.block.C2f             [192, 128, 1]                 \n",
            " 19                  -1  1    147712  ultralytics.nn.modules.conv.Conv             [128, 128, 3, 2]              \n",
            " 20             [-1, 9]  1         0  ultralytics.nn.modules.conv.Concat           [1]                           \n",
            " 21                  -1  1    493056  ultralytics.nn.modules.block.C2f             [384, 256, 1]                 \n",
            " 22        [15, 18, 21]  1    757942  ultralytics.nn.modules.head.Detect           [34, [64, 128, 256]]          \n",
            "Model summary: 225 layers, 3017478 parameters, 3017462 gradients\n",
            "\n",
            "Transferred 319/355 items from pretrained weights\n",
            "\u001b[34m\u001b[1mTensorBoard: \u001b[0mStart with 'tensorboard --logdir trained_model/train2', view at http://localhost:6006/\n",
            "\u001b[34m\u001b[1mAMP: \u001b[0mrunning Automatic Mixed Precision (AMP) checks with YOLOv8n...\n",
            "\u001b[34m\u001b[1mAMP: \u001b[0mchecks passed ✅\n",
            "\u001b[34m\u001b[1mtrain: \u001b[0mScanning /content/data/train.cache... 10 images, 0 backgrounds, 0 corrupt: 100%|██████████| 10/10 [00:00<?, ?it/s]\n",
            "\u001b[34m\u001b[1malbumentations: \u001b[0mBlur(p=0.01, blur_limit=(3, 7)), MedianBlur(p=0.01, blur_limit=(3, 7)), ToGray(p=0.01), CLAHE(p=0.01, clip_limit=(1, 4.0), tile_grid_size=(8, 8))\n",
            "\u001b[34m\u001b[1mval: \u001b[0mScanning /content/data/val.cache... 3 images, 0 backgrounds, 0 corrupt: 100%|██████████| 3/3 [00:00<?, ?it/s]\n",
            "Plotting labels to trained_model/train2/labels.jpg... \n",
            "\u001b[34m\u001b[1moptimizer:\u001b[0m AdamW(lr=0.001, momentum=0.937) with parameter groups 57 weight(decay=0.0), 64 weight(decay=0.0005), 63 bias(decay=0.0)\n",
            "Image sizes 640 train, 640 val\n",
            "Using 2 dataloader workers\n",
            "Logging results to \u001b[1mtrained_model/train2\u001b[0m\n",
            "Starting training for 100 epochs...\n",
            "\n",
            "      Epoch    GPU_mem   box_loss   cls_loss   dfl_loss  Instances       Size\n",
            "      1/100     0.786G     0.7292      4.797      1.039          7        640: 100%|██████████| 3/3 [00:00<00:00,  3.86it/s]\n",
            "                 Class     Images  Instances      Box(P          R      mAP50  mAP50-95): 100%|██████████| 1/1 [00:00<00:00, 13.04it/s]\n",
            "                   all          3          9          0          0          0          0\n",
            "\n",
            "      Epoch    GPU_mem   box_loss   cls_loss   dfl_loss  Instances       Size\n",
            "      2/100     0.816G     0.8196      4.586     0.9543         10        640: 100%|██████████| 3/3 [00:10<00:00,  3.62s/it]\n",
            "                 Class     Images  Instances      Box(P          R      mAP50  mAP50-95): 100%|██████████| 1/1 [00:00<00:00, 18.56it/s]\n",
            "                   all          3          9          0          0          0          0\n",
            "\n",
            "      Epoch    GPU_mem   box_loss   cls_loss   dfl_loss  Instances       Size\n",
            "      3/100     0.738G     0.6638      4.144     0.9207          6        640: 100%|██████████| 3/3 [00:00<00:00, 10.36it/s]\n",
            "                 Class     Images  Instances      Box(P          R      mAP50  mAP50-95): 100%|██████████| 1/1 [00:00<00:00, 27.96it/s]\n",
            "                   all          3          9          0          0          0          0\n",
            "\n",
            "      Epoch    GPU_mem   box_loss   cls_loss   dfl_loss  Instances       Size\n",
            "      4/100     0.749G      0.475      3.823     0.7996          6        640: 100%|██████████| 3/3 [00:00<00:00,  9.85it/s]\n",
            "                 Class     Images  Instances      Box(P          R      mAP50  mAP50-95): 100%|██████████| 1/1 [00:00<00:00, 12.48it/s]\n",
            "                   all          3          9      0.111      0.333      0.332      0.298\n",
            "\n",
            "      Epoch    GPU_mem   box_loss   cls_loss   dfl_loss  Instances       Size\n",
            "      5/100     0.755G     0.5599      3.464     0.8226          9        640: 100%|██████████| 3/3 [00:00<00:00,  9.14it/s]\n",
            "                 Class     Images  Instances      Box(P          R      mAP50  mAP50-95): 100%|██████████| 1/1 [00:00<00:00, 11.26it/s]\n",
            "                   all          3          9    0.00565      0.333      0.332      0.298\n",
            "\n",
            "      Epoch    GPU_mem   box_loss   cls_loss   dfl_loss  Instances       Size\n",
            "      6/100     0.755G     0.7902      3.323      1.006          9        640: 100%|██████████| 3/3 [00:00<00:00,  6.90it/s]\n",
            "                 Class     Images  Instances      Box(P          R      mAP50  mAP50-95): 100%|██████████| 1/1 [00:00<00:00, 10.34it/s]\n",
            "                   all          3          9    0.00556      0.333      0.332      0.298\n",
            "\n",
            "      Epoch    GPU_mem   box_loss   cls_loss   dfl_loss  Instances       Size\n",
            "      7/100     0.749G      0.605      2.981      0.918         10        640: 100%|██████████| 3/3 [00:00<00:00,  5.76it/s]\n",
            "                 Class     Images  Instances      Box(P          R      mAP50  mAP50-95): 100%|██████████| 1/1 [00:00<00:00,  7.86it/s]\n",
            "                   all          3          9      0.116      0.667      0.663      0.597\n",
            "\n",
            "      Epoch    GPU_mem   box_loss   cls_loss   dfl_loss  Instances       Size\n",
            "      8/100     0.755G      0.554      2.716     0.8851         11        640: 100%|██████████| 3/3 [00:00<00:00,  5.58it/s]\n",
            "                 Class     Images  Instances      Box(P          R      mAP50  mAP50-95): 100%|██████████| 1/1 [00:00<00:00,  6.31it/s]\n",
            "                   all          3          9      0.348          1      0.995      0.862\n",
            "\n",
            "      Epoch    GPU_mem   box_loss   cls_loss   dfl_loss  Instances       Size\n",
            "      9/100     0.747G     0.7029      2.225     0.9171          6        640: 100%|██████████| 3/3 [00:00<00:00, 10.12it/s]\n",
            "                 Class     Images  Instances      Box(P          R      mAP50  mAP50-95): 100%|██████████| 1/1 [00:00<00:00,  8.76it/s]\n",
            "                   all          3          9      0.348          1      0.995      0.862\n",
            "\n",
            "      Epoch    GPU_mem   box_loss   cls_loss   dfl_loss  Instances       Size\n",
            "     10/100     0.749G     0.5774      2.185     0.8393         11        640: 100%|██████████| 3/3 [00:00<00:00, 10.06it/s]\n",
            "                 Class     Images  Instances      Box(P          R      mAP50  mAP50-95): 100%|██████████| 1/1 [00:00<00:00,  8.71it/s]\n",
            "                   all          3          9     0.0937          1      0.995      0.862\n",
            "\n",
            "      Epoch    GPU_mem   box_loss   cls_loss   dfl_loss  Instances       Size\n",
            "     11/100     0.753G     0.5652      1.756     0.8809          6        640: 100%|██████████| 3/3 [00:00<00:00, 10.80it/s]\n",
            "                 Class     Images  Instances      Box(P          R      mAP50  mAP50-95): 100%|██████████| 1/1 [00:00<00:00,  8.80it/s]\n",
            "                   all          3          9     0.0937          1      0.995      0.862\n",
            "\n",
            "      Epoch    GPU_mem   box_loss   cls_loss   dfl_loss  Instances       Size\n",
            "     12/100     0.751G     0.5594      1.852     0.8667          7        640: 100%|██████████| 3/3 [00:00<00:00,  9.92it/s]\n",
            "                 Class     Images  Instances      Box(P          R      mAP50  mAP50-95): 100%|██████████| 1/1 [00:00<00:00, 14.67it/s]\n",
            "                   all          3          9       0.12          1      0.995      0.862\n",
            "\n",
            "      Epoch    GPU_mem   box_loss   cls_loss   dfl_loss  Instances       Size\n",
            "     13/100     0.753G     0.5744      1.788     0.8372          6        640: 100%|██████████| 3/3 [00:00<00:00, 10.77it/s]\n",
            "                 Class     Images  Instances      Box(P          R      mAP50  mAP50-95): 100%|██████████| 1/1 [00:00<00:00, 10.58it/s]\n",
            "                   all          3          9       0.12          1      0.995      0.862\n",
            "\n",
            "      Epoch    GPU_mem   box_loss   cls_loss   dfl_loss  Instances       Size\n",
            "     14/100     0.753G     0.7167      1.972     0.9241          6        640: 100%|██████████| 3/3 [00:00<00:00,  9.00it/s]\n",
            "                 Class     Images  Instances      Box(P          R      mAP50  mAP50-95): 100%|██████████| 1/1 [00:00<00:00, 18.71it/s]\n",
            "                   all          3          9       0.94      0.333      0.995      0.862\n",
            "\n",
            "      Epoch    GPU_mem   box_loss   cls_loss   dfl_loss  Instances       Size\n",
            "     15/100     0.747G     0.5076      1.521      0.792          6        640: 100%|██████████| 3/3 [00:00<00:00, 11.22it/s]\n",
            "                 Class     Images  Instances      Box(P          R      mAP50  mAP50-95): 100%|██████████| 1/1 [00:00<00:00, 19.40it/s]\n",
            "                   all          3          9       0.94      0.333      0.995      0.862\n",
            "\n",
            "      Epoch    GPU_mem   box_loss   cls_loss   dfl_loss  Instances       Size\n",
            "     16/100     0.753G     0.6031      1.798     0.8466          6        640: 100%|██████████| 3/3 [00:00<00:00,  9.74it/s]\n",
            "                 Class     Images  Instances      Box(P          R      mAP50  mAP50-95): 100%|██████████| 1/1 [00:00<00:00, 20.42it/s]\n",
            "                   all          3          9       0.94      0.333      0.995      0.862\n",
            "\n",
            "      Epoch    GPU_mem   box_loss   cls_loss   dfl_loss  Instances       Size\n",
            "     17/100     0.749G     0.8152      1.716     0.9386          9        640: 100%|██████████| 3/3 [00:00<00:00,  8.97it/s]\n",
            "                 Class     Images  Instances      Box(P          R      mAP50  mAP50-95): 100%|██████████| 1/1 [00:00<00:00, 10.43it/s]\n",
            "                   all          3          9      0.928      0.333      0.995      0.896\n",
            "\n",
            "      Epoch    GPU_mem   box_loss   cls_loss   dfl_loss  Instances       Size\n",
            "     18/100     0.755G     0.6581      1.418     0.8179          6        640: 100%|██████████| 3/3 [00:00<00:00,  7.28it/s]\n",
            "                 Class     Images  Instances      Box(P          R      mAP50  mAP50-95): 100%|██████████| 1/1 [00:00<00:00,  8.86it/s]\n",
            "                   all          3          9      0.928      0.333      0.995      0.896\n",
            "\n",
            "      Epoch    GPU_mem   box_loss   cls_loss   dfl_loss  Instances       Size\n",
            "     19/100     0.753G     0.5862      1.419     0.8048          6        640: 100%|██████████| 3/3 [00:00<00:00,  6.80it/s]\n",
            "                 Class     Images  Instances      Box(P          R      mAP50  mAP50-95): 100%|██████████| 1/1 [00:00<00:00,  7.30it/s]\n",
            "                   all          3          9      0.928      0.333      0.995      0.896\n",
            "\n",
            "      Epoch    GPU_mem   box_loss   cls_loss   dfl_loss  Instances       Size\n",
            "     20/100     0.755G     0.6358      1.425     0.8024          6        640: 100%|██████████| 3/3 [00:00<00:00,  4.92it/s]\n",
            "                 Class     Images  Instances      Box(P          R      mAP50  mAP50-95): 100%|██████████| 1/1 [00:00<00:00,  7.43it/s]\n",
            "                   all          3          9      0.834          1      0.995      0.929\n",
            "\n",
            "      Epoch    GPU_mem   box_loss   cls_loss   dfl_loss  Instances       Size\n",
            "     21/100     0.749G     0.7488      1.289     0.9284          9        640: 100%|██████████| 3/3 [00:00<00:00, 11.04it/s]\n",
            "                 Class     Images  Instances      Box(P          R      mAP50  mAP50-95): 100%|██████████| 1/1 [00:00<00:00,  8.87it/s]\n",
            "                   all          3          9      0.834          1      0.995      0.929\n",
            "\n",
            "      Epoch    GPU_mem   box_loss   cls_loss   dfl_loss  Instances       Size\n",
            "     22/100     0.755G     0.6251      1.147     0.8441          6        640: 100%|██████████| 3/3 [00:00<00:00, 11.43it/s]\n",
            "                 Class     Images  Instances      Box(P          R      mAP50  mAP50-95): 100%|██████████| 1/1 [00:00<00:00, 18.48it/s]\n",
            "                   all          3          9      0.834          1      0.995      0.929\n",
            "\n",
            "      Epoch    GPU_mem   box_loss   cls_loss   dfl_loss  Instances       Size\n",
            "     23/100     0.753G     0.6407      1.192     0.8213          6        640: 100%|██████████| 3/3 [00:00<00:00, 11.68it/s]\n",
            "                 Class     Images  Instances      Box(P          R      mAP50  mAP50-95): 100%|██████████| 1/1 [00:00<00:00, 18.93it/s]\n",
            "                   all          3          9      0.834          1      0.995      0.929\n",
            "\n",
            "      Epoch    GPU_mem   box_loss   cls_loss   dfl_loss  Instances       Size\n",
            "     24/100     0.755G     0.5131      1.104     0.8126          6        640: 100%|██████████| 3/3 [00:00<00:00,  5.16it/s]\n",
            "                 Class     Images  Instances      Box(P          R      mAP50  mAP50-95): 100%|██████████| 1/1 [00:00<00:00,  6.33it/s]\n",
            "                   all          3          9       0.84          1      0.995      0.929\n",
            "\n",
            "      Epoch    GPU_mem   box_loss   cls_loss   dfl_loss  Instances       Size\n",
            "     25/100     0.747G     0.5532      1.034      0.814          7        640: 100%|██████████| 3/3 [00:00<00:00,  9.60it/s]\n",
            "                 Class     Images  Instances      Box(P          R      mAP50  mAP50-95): 100%|██████████| 1/1 [00:00<00:00, 16.93it/s]\n",
            "                   all          3          9       0.84          1      0.995      0.929\n",
            "\n",
            "      Epoch    GPU_mem   box_loss   cls_loss   dfl_loss  Instances       Size\n",
            "     26/100     0.753G     0.6229      1.019     0.8469          6        640: 100%|██████████| 3/3 [00:00<00:00, 10.08it/s]\n",
            "                 Class     Images  Instances      Box(P          R      mAP50  mAP50-95): 100%|██████████| 1/1 [00:00<00:00,  8.31it/s]\n",
            "                   all          3          9       0.84          1      0.995      0.929\n",
            "\n",
            "      Epoch    GPU_mem   box_loss   cls_loss   dfl_loss  Instances       Size\n",
            "     27/100     0.755G     0.6547      1.187     0.8251          7        640: 100%|██████████| 3/3 [00:00<00:00, 11.70it/s]\n",
            "                 Class     Images  Instances      Box(P          R      mAP50  mAP50-95): 100%|██████████| 1/1 [00:00<00:00, 14.97it/s]\n",
            "                   all          3          9       0.84          1      0.995      0.929\n",
            "\n",
            "      Epoch    GPU_mem   box_loss   cls_loss   dfl_loss  Instances       Size\n",
            "     28/100     0.755G     0.6009     0.9952     0.8697         11        640: 100%|██████████| 3/3 [00:00<00:00,  8.83it/s]\n",
            "                 Class     Images  Instances      Box(P          R      mAP50  mAP50-95): 100%|██████████| 1/1 [00:00<00:00, 17.36it/s]\n",
            "                   all          3          9       0.84          1      0.995      0.929\n",
            "\n",
            "      Epoch    GPU_mem   box_loss   cls_loss   dfl_loss  Instances       Size\n",
            "     29/100     0.749G     0.5675      1.067     0.8349         10        640: 100%|██████████| 3/3 [00:00<00:00, 10.07it/s]\n",
            "                 Class     Images  Instances      Box(P          R      mAP50  mAP50-95): 100%|██████████| 1/1 [00:00<00:00, 19.09it/s]\n",
            "                   all          3          9      0.728          1      0.995      0.962\n",
            "\n",
            "      Epoch    GPU_mem   box_loss   cls_loss   dfl_loss  Instances       Size\n",
            "     30/100     0.753G     0.6449       1.04     0.8954          6        640: 100%|██████████| 3/3 [00:00<00:00,  8.33it/s]\n",
            "                 Class     Images  Instances      Box(P          R      mAP50  mAP50-95): 100%|██████████| 1/1 [00:00<00:00, 15.47it/s]\n",
            "                   all          3          9      0.728          1      0.995      0.962\n",
            "\n",
            "      Epoch    GPU_mem   box_loss   cls_loss   dfl_loss  Instances       Size\n",
            "     31/100     0.753G     0.5377     0.9774     0.8238          6        640: 100%|██████████| 3/3 [00:00<00:00,  6.63it/s]\n",
            "                 Class     Images  Instances      Box(P          R      mAP50  mAP50-95): 100%|██████████| 1/1 [00:00<00:00,  7.62it/s]\n",
            "                   all          3          9      0.728          1      0.995      0.962\n",
            "\n",
            "      Epoch    GPU_mem   box_loss   cls_loss   dfl_loss  Instances       Size\n",
            "     32/100     0.755G      0.565     0.9646     0.8409          6        640: 100%|██████████| 3/3 [00:00<00:00,  6.06it/s]\n",
            "                 Class     Images  Instances      Box(P          R      mAP50  mAP50-95): 100%|██████████| 1/1 [00:00<00:00, 15.64it/s]\n",
            "                   all          3          9      0.728          1      0.995      0.962\n",
            "\n",
            "      Epoch    GPU_mem   box_loss   cls_loss   dfl_loss  Instances       Size\n",
            "     33/100     0.757G     0.6081     0.9804     0.8816         11        640: 100%|██████████| 3/3 [00:00<00:00, 10.79it/s]\n",
            "                 Class     Images  Instances      Box(P          R      mAP50  mAP50-95): 100%|██████████| 1/1 [00:00<00:00, 19.92it/s]\n",
            "                   all          3          9      0.728          1      0.995      0.962\n",
            "\n",
            "      Epoch    GPU_mem   box_loss   cls_loss   dfl_loss  Instances       Size\n",
            "     34/100     0.755G     0.6674      1.021     0.8806         10        640: 100%|██████████| 3/3 [00:00<00:00,  8.78it/s]\n",
            "                 Class     Images  Instances      Box(P          R      mAP50  mAP50-95): 100%|██████████| 1/1 [00:00<00:00, 12.81it/s]\n",
            "                   all          3          9      0.731          1      0.995      0.862\n",
            "\n",
            "      Epoch    GPU_mem   box_loss   cls_loss   dfl_loss  Instances       Size\n",
            "     35/100     0.749G      0.616      1.003     0.8647         11        640: 100%|██████████| 3/3 [00:00<00:00, 11.78it/s]\n",
            "                 Class     Images  Instances      Box(P          R      mAP50  mAP50-95): 100%|██████████| 1/1 [00:00<00:00,  8.52it/s]\n",
            "                   all          3          9      0.731          1      0.995      0.862\n",
            "\n",
            "      Epoch    GPU_mem   box_loss   cls_loss   dfl_loss  Instances       Size\n",
            "     36/100     0.755G     0.5763     0.9781      0.865          9        640: 100%|██████████| 3/3 [00:00<00:00,  9.35it/s]\n",
            "                 Class     Images  Instances      Box(P          R      mAP50  mAP50-95): 100%|██████████| 1/1 [00:00<00:00,  7.93it/s]\n",
            "                   all          3          9      0.731          1      0.995      0.862\n",
            "\n",
            "      Epoch    GPU_mem   box_loss   cls_loss   dfl_loss  Instances       Size\n",
            "     37/100     0.755G     0.5661     0.8922     0.8537          9        640: 100%|██████████| 3/3 [00:00<00:00,  9.48it/s]\n",
            "                 Class     Images  Instances      Box(P          R      mAP50  mAP50-95): 100%|██████████| 1/1 [00:00<00:00, 14.38it/s]\n",
            "                   all          3          9      0.731          1      0.995      0.862\n",
            "\n",
            "      Epoch    GPU_mem   box_loss   cls_loss   dfl_loss  Instances       Size\n",
            "     38/100     0.755G     0.7059      1.031     0.9231         11        640: 100%|██████████| 3/3 [00:00<00:00,  9.76it/s]\n",
            "                 Class     Images  Instances      Box(P          R      mAP50  mAP50-95): 100%|██████████| 1/1 [00:00<00:00,  7.97it/s]\n",
            "                   all          3          9      0.731          1      0.995      0.862\n",
            "Stopping training early as no improvement observed in last 5 epochs. Best results observed at epoch 33, best model saved as best.pt.\n",
            "To update EarlyStopping(patience=5) pass a new patience value, i.e. `patience=300` or use `patience=0` to disable EarlyStopping.\n",
            "\n",
            "38 epochs completed in 0.017 hours.\n",
            "Optimizer stripped from trained_model/train2/weights/last.pt, 6.2MB\n",
            "Optimizer stripped from trained_model/train2/weights/best.pt, 6.2MB\n",
            "\n",
            "Validating trained_model/train2/weights/best.pt...\n",
            "Ultralytics YOLOv8.0.150 🚀 Python-3.10.12 torch-2.0.1+cu118 CUDA:0 (Tesla T4, 15102MiB)\n",
            "Model summary (fused): 168 layers, 3012278 parameters, 0 gradients\n",
            "                 Class     Images  Instances      Box(P          R      mAP50  mAP50-95): 100%|██████████| 1/1 [00:00<00:00, 17.36it/s]\n",
            "                   all          3          9      0.728          1      0.995      0.962\n",
            "hyundai_avante_sedan_2020_          3          3       0.45          1      0.995      0.995\n",
            "hyundai_ioniq_hatchback_2016_2019          3          3      0.945          1      0.995      0.995\n",
            "kia_sorrento_suv_2015_2019          3          3      0.788          1      0.995      0.895\n",
            "Speed: 0.2ms preprocess, 4.9ms inference, 0.0ms loss, 1.4ms postprocess per image\n",
            "Results saved to \u001b[1mtrained_model/train2\u001b[0m\n"
          ]
        }
      ]
    },
    {
      "cell_type": "code",
      "source": [
        "# 테스트 이미지를 배치 사이즈로 변환\n",
        "def get_test_image_paths(test_image_paths):\n",
        "    for i in range(0, len(test_image_paths), BATCH_SIZE):\n",
        "        yield test_image_paths[i:i+BATCH_SIZE]"
      ],
      "metadata": {
        "id": "yf1HcecR3s1j"
      },
      "execution_count": 46,
      "outputs": []
    },
    {
      "cell_type": "code",
      "source": [
        "# 화면에 표시하는 내용 삭제\n",
        "from IPython.display import clear_output"
      ],
      "metadata": {
        "id": "DOBz583E4uS5"
      },
      "execution_count": 16,
      "outputs": []
    },
    {
      "cell_type": "code",
      "source": [
        "# 학습한 모델을 가져 와서 테스트에 적용: predict 폴더 아래 labels란 폴더 만들어서 txt 생성\n",
        "model = YOLO(\"/content/trained_model/train/weights/best.pt\")\n",
        "test_image_paths = glob.glob(\"/content/data/test/*.png\")\n",
        "for i, image in tqdm(enumerate(get_test_image_paths(test_image_paths)), total=int(len(test_image_paths)/BATCH_SIZE)):\n",
        "    model.predict(image, imgsz=640, iou=0.2, conf=0.5, save_conf=True, save=False, save_txt=True, project=f\"{MODEL}\", name=\"predict\",\n",
        "                  exist_ok=True, device=0, augment=True, verbose=False)\n",
        "    # if i % 5 == 0: # 5 단위로만 출력함\n",
        "    #     clear_output(wait=True)"
      ],
      "metadata": {
        "colab": {
          "base_uri": "https://localhost:8080/"
        },
        "id": "xllrT1qY4Xyi",
        "outputId": "d1a2308d-aed8-49aa-a7e9-f38dbd1cec41"
      },
      "execution_count": 47,
      "outputs": [
        {
          "output_type": "stream",
          "name": "stderr",
          "text": [
            "\r  0%|          | 0/1 [00:00<?, ?it/s]Results saved to \u001b[1mtrained_model/predict\u001b[0m\n",
            "5 labels saved to trained_model/predict/labels\n",
            "100%|██████████| 1/1 [00:00<00:00,  1.41it/s]Results saved to \u001b[1mtrained_model/predict\u001b[0m\n",
            "5 labels saved to trained_model/predict/labels\n",
            "2it [00:00,  2.28it/s]\n"
          ]
        }
      ]
    },
    {
      "cell_type": "code",
      "source": [
        "# txt 파일을 yolo용 txt로 변환\n",
        "def yolo_to_labelme(line, image_width, image_height, txt_file_name):\n",
        "    file_name = txt_file_name.split(\"/\")[-1].replace(\".txt\", \".png\")\n",
        "    class_id, x, y, width, height, confidence = [float(temp) for temp in line.split()]\n",
        "\n",
        "    x_min = int((x - width / 2) * image_width)\n",
        "    x_max = int((x + width / 2) * image_width)\n",
        "    y_min = int((y - height / 2) * image_height)\n",
        "    y_max = int((y + height / 2) * image_height)\n",
        "\n",
        "    return file_name, int(class_id), confidence, x_min, y_min, x_max, y_min, x_max, y_max, x_min, y_max"
      ],
      "metadata": {
        "id": "WQVpKJ5v4h7x"
      },
      "execution_count": 48,
      "outputs": []
    },
    {
      "cell_type": "code",
      "source": [
        "# yolo용 txt에서 제출 파일용 정보 수집하여 제출 파일 생성\n",
        "infer_txts = glob.glob(f\"{MODEL}/predict/labels/*.txt\")\n",
        "\n",
        "results = []\n",
        "for infer_txt in tqdm(infer_txts):\n",
        "    base_file_name = infer_txt.split(\"/\")[-1].split(\".\")[0]\n",
        "    imgage_height, imgage_width = cv2.imread(f\"./data/test/{base_file_name}.png\").shape[:2]\n",
        "    with open(infer_txt, \"r\") as reader:\n",
        "        lines = reader.readlines()\n",
        "        for line in lines:\n",
        "            results.append(yolo_to_labelme(line, imgage_width, imgage_height, infer_txt))\n",
        "\n",
        "df_submission = pd.DataFrame(data=results, columns=[\"file_name\", \"class_id\", \"confidence\", \"point1_x\", \"point1_y\", \"point2_x\", \"point2_y\", \"point3_x\", \"point3_y\", \"point4_x\", \"point4_y\"])\n",
        "df_submission.to_csv(f\"./results/{MODEL}.csv\", index=False)"
      ],
      "metadata": {
        "colab": {
          "base_uri": "https://localhost:8080/"
        },
        "id": "3MvVQIYH4jnC",
        "outputId": "c4d009f3-8410-4a23-fcc0-9efcc90befb4"
      },
      "execution_count": 50,
      "outputs": [
        {
          "output_type": "stream",
          "name": "stderr",
          "text": [
            "100%|██████████| 5/5 [00:00<00:00, 19.99it/s]\n"
          ]
        }
      ]
    },
    {
      "cell_type": "code",
      "source": [],
      "metadata": {
        "id": "Bqt_9579BPXV"
      },
      "execution_count": null,
      "outputs": []
    }
  ]
}