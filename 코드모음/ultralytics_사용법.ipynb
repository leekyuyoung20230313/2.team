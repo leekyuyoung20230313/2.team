{
  "nbformat": 4,
  "nbformat_minor": 0,
  "metadata": {
    "colab": {
      "provenance": []
    },
    "kernelspec": {
      "name": "python3",
      "display_name": "Python 3"
    },
    "language_info": {
      "name": "python"
    }
  },
  "cells": [
    {
      "cell_type": "code",
      "execution_count": null,
      "metadata": {
        "id": "9nFABl4qdEA-"
      },
      "outputs": [],
      "source": [
        "# https://hub.ultralytics.com/datasets"
      ]
    },
    {
      "cell_type": "code",
      "source": [
        "# 1. COCO JSON -> YOLO용 txt로 변환\n",
        "import os\n",
        "import json\n",
        "import glob"
      ],
      "metadata": {
        "id": "-tpnhJSZdyNN"
      },
      "execution_count": null,
      "outputs": []
    },
    {
      "cell_type": "code",
      "source": [
        "def convert_coco_to_yolo(coco_json_folder, output_txt_folder):\n",
        "\n",
        "    # 폴더를 생성하는 함수\n",
        "    os.makedirs(output_txt_folder, exist_ok=True)\n",
        "    # output_txt_folder: 폴더를 생성할 경로를 나타내는 문자열\n",
        "    # exist_ok: 이 인자는 선택적 매개변수\n",
        "    #           True : 폴더가 이미 존재하는 경우에는 FileExistsError 예외를 발생\n",
        "    #           True : 폴더가 이미 존재해도 예외를 발생시키지 않고 무시\n",
        "\n",
        "    # 해당 파일들의 리스트를 json_files 변수에 저장하는 코드\n",
        "    json_files = glob.glob(os.path.join(coco_json_folder, '*.json'))\n",
        "\n",
        "    for json_file in json_files:\n",
        "\n",
        "      # JSON 파일을 텍스트 모드로 읽어옴\n",
        "      with open(json_file, 'r') as f:\n",
        "          coco_data = json.load(f)\n",
        "\n",
        "      filename = os.path.splitext(os.path.basename(json_file))[0]\n",
        "      output_txt_path = os.path.join(output_txt_folder, filename + '.txt')\n",
        "\n",
        "      ## 읽어온 JSON 데이터를 그대로 텍스트 파일로 저장(본래 코드 - 참고용)\n",
        "      ## with open('output.txt', 'w') as f:\n",
        "      ##      f.write(json_data)\n",
        "\n",
        "      # YOLO 형식의 텍스트 파일을 생성합니다.\n",
        "      with open(output_txt_path, 'w') as f:\n",
        "\n",
        "          # COCO 데이터의 각 어노테이션(annotation)을 처리합니다.\n",
        "          for idx, annotation in enumerate(coco_data['annotations']):\n",
        "\n",
        "              # 어노테이션 정보에서 이미지 ID, 파일명, 너비, 높이, 클래스 ID, 바운딩 박스 정보를 추출합니다.\n",
        "              image_id = annotation['image_id']\n",
        "\n",
        "              ## next(iterator[, default])\n",
        "              ## -> iterator(반복자)에서 다음 요소를 반환하는 역할\n",
        "\n",
        "              image_info = next(image for image in coco_data['images'] if image['id'] == image_id)\n",
        "              # -> id 값이 image_id와 일치하는 첫 번째 이미지 정보를 가져옴\n",
        "\n",
        "              image_filename = image_info['file_name']\n",
        "              image_width = image_info['width']\n",
        "              image_height = image_info['height']\n",
        "\n",
        "              class_id = annotation['category_id']\n",
        "              bbox = annotation['bbox']\n",
        "\n",
        "              ## COCO 형식의 bounding box는 [x_min, y_min, width, height]\n",
        "              ## [왼쪽 상단 모서리의 x 좌표, 왼쪽 상단 모서리의 y 좌표, 너비, 높이]\n",
        "\n",
        "              x_center = bbox[0] + bbox[2] / 2    # x 좌표를 이미지의 너비에 대한 상대값으로 표현\n",
        "              y_center = bbox[1] + bbox[3] / 2    # y 좌표를 이미지의 높이에 대한 상대값으로 표현\n",
        "              width = bbox[2]                     # 이미지의 너비에 대한 상대값으로 표현\n",
        "              height = bbox[3]                    # 이미지의 높이에 대한 상대값으로 표현\n",
        "\n",
        "              # YOLO 형식에 맞게 바운딩 박스의 중심 좌표와 크기를 이미지의 크기로 정규화합니다.\n",
        "              x_center /= image_width\n",
        "              y_center /= image_height\n",
        "              width /= image_width\n",
        "              height /= image_height\n",
        "\n",
        "              ## YOLO 형식의 bounding box는 [x_center, y_center, width, height]\n",
        "              # YOLO 텍스트 파일에 해당 이미지의 정보를 기록합니다.\n",
        "              line = f'{idx} {x_center:.6f} {y_center:.6f} {width:.6f} {height:.6f}\\n'\n",
        "\n",
        "              # 파일에 작성\n",
        "              f.write(line)"
      ],
      "metadata": {
        "id": "jBOnC-Ljebw0"
      },
      "execution_count": null,
      "outputs": []
    },
    {
      "cell_type": "code",
      "source": [
        "# COCO JSON 파일 경로\n",
        "coco_json_folder = '/content/train'\n",
        "\n",
        "# 생성할 YOLO 텍스트 파일 경로\n",
        "output_txt_folder = '/content/labels'\n",
        "\n",
        "# 함수 실행\n",
        "convert_coco_to_yolo(coco_json_folder, output_txt_folder)"
      ],
      "metadata": {
        "id": "kxZdH9blelyE"
      },
      "execution_count": null,
      "outputs": []
    },
    {
      "cell_type": "code",
      "source": [
        "# 2. YOLO 적용\n",
        "!pip install ultralytics"
      ],
      "metadata": {
        "id": "-ReSjYfJernc"
      },
      "execution_count": null,
      "outputs": []
    },
    {
      "cell_type": "code",
      "source": [
        "from ultralytics import YOLO, checks, hub\n",
        "checks()"
      ],
      "metadata": {
        "id": "ScEcv4rYe0v0"
      },
      "execution_count": null,
      "outputs": []
    },
    {
      "cell_type": "code",
      "source": [
        "# 사이트에서 복사해서 사용: 매번 바뀜\n",
        "hub.login('1e0704169690ba0348e8638360e05170d81d03b5d1')\n",
        "\n",
        "model = YOLO('https://hub.ultralytics.com/models/JqgJBT2WsjC8zSxl6h3n')\n",
        "model.train()"
      ],
      "metadata": {
        "id": "jWTnsLFTe80k"
      },
      "execution_count": null,
      "outputs": []
    }
  ]
}