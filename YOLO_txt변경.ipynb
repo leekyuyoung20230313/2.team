{
  "nbformat": 4,
  "nbformat_minor": 0,
  "metadata": {
    "colab": {
      "provenance": []
    },
    "kernelspec": {
      "name": "python3",
      "display_name": "Python 3"
    },
    "language_info": {
      "name": "python"
    }
  },
  "cells": [
    {
      "cell_type": "code",
      "execution_count": null,
      "metadata": {
        "id": "FVvbIdUnIc5D"
      },
      "outputs": [],
      "source": [
        "# @title COCO(Common Objects in Context)\n",
        "\n",
        "# < 특징 >\n",
        "# 1. \"객체 검출을 위한 대규모 데이터셋\"\n",
        "# 2. 다양한 객체들과 그에 대한 라벨 정보를 포함\n",
        "# 3. 객체 검출, 분할, 키포인트 검출 등의 다양한 태스크에 활용\n",
        "# 4. 객체 검출을 위한 bounding box 정보 뿐만 아니라 세그멘테이션 정보 등 다양한 정보를 제공\n",
        "# 5. 컴퓨터 비전 분야의 연구와 알고리즘 개발에 활용\n",
        "\n",
        "# < 형식 >\n",
        "# {\n",
        "#     \"info\": {...},        // 데이터셋 정보\n",
        "#     \"licenses\": [...],    // 라이센스 정보\n",
        "#     \"images\": [...],      // 이미지 정보\n",
        "#     \"annotations\": [...], // 객체 정보 (bounding box, 클래스 등)\n",
        "#     \"categories\": [...]    // 클래스 정보\n",
        "# }\n",
        "\n",
        "# < 형식 내용 >\n",
        "# info: 데이터셋에 대한 정보를 담고 있는 딕셔너리입니다.\n",
        "# licenses: 라이센스에 관한 정보를 담고 있는 리스트입니다.\n",
        "# images: 이미지에 관한 정보를 담고 있는 리스트입니다.\n",
        "#         각 이미지는 id, file_name, width, height 등의 정보를 포함합니다.\n",
        "# annotations: 객체에 관한 정보를 담고 있는 리스트입니다.\n",
        "#              객체 정보는 id, image_id, category_id, bbox (bounding box 좌표), area 등의 정보를 포함합니다.\n",
        "# categories: 객체 클래스에 관한 정보를 담고 있는 리스트입니다.\n",
        "#             각 클래스는 id, name, supercategory 등의 정보를 포함합니다."
      ]
    },
    {
      "cell_type": "code",
      "source": [
        "# @title YOLO(You Only Look Once)\n",
        "\n",
        "# < 특징 >\n",
        "# 1. \"실시간 객체 검출 알고리즘\"\n",
        "# 2. 이미지를 한 번만 처리하여 객체를 검출하는 특징\n",
        "# 3. 이미지를 그리드로 나누고, 각 그리드 셀에서 여러 개의 bounding box를 예측하여 객체를 검출\n",
        "# 4. 객체를 빠르고 정확하게 검출하는데 강점\n",
        "\n",
        "# < 형식 >\n",
        "# <path_to_image> <x_center> <y_center> <width> <height> <class_id>\n",
        "\n",
        "# < 형식 내용 >\n",
        "# <path_to_image>: 이미지 파일의 경로를 나타냅니다.\n",
        "# <x_center>: 객체의 bounding box의 중심 x 좌표를 이미지의 너비(width)에 대한 상대값으로 표현합니다.\n",
        "# <y_center>: 객체의 bounding box의 중심 y 좌표를 이미지의 높이(height)에 대한 상대값으로 표현합니다.\n",
        "# <width>: 객체의 bounding box의 너비를 이미지의 너비에 대한 상대값으로 표현합니다.\n",
        "# <height>: 객체의 bounding box의 높이를 이미지의 높이에 대한 상대값으로 표현합니다.\n",
        "# <class_id>: 객체의 클래스 ID를 나타냅니다."
      ],
      "metadata": {
        "id": "eePjg0EEJ_nj"
      },
      "execution_count": null,
      "outputs": []
    },
    {
      "cell_type": "code",
      "source": [
        "# @title (COCO -> YOLO) JSON파일을 TXT로 전환"
      ],
      "metadata": {
        "id": "SdEpi3EPLbnc"
      },
      "execution_count": null,
      "outputs": []
    },
    {
      "cell_type": "code",
      "source": [
        "# 모듈 선언\n",
        "import os\n",
        "import json\n",
        "import glob"
      ],
      "metadata": {
        "id": "GcmQydXZLv7j"
      },
      "execution_count": 46,
      "outputs": []
    },
    {
      "cell_type": "code",
      "source": [
        "# YOLO 스타일에 TXT파일로 변환 해주는 함수\n",
        "\n",
        "def convert_coco_to_yolo(coco_json_folder, output_txt_folder, image_folder):\n",
        "\n",
        "    # 폴더를 생성하는 함수\n",
        "    os.makedirs(output_txt_folder, exist_ok=True)\n",
        "    # output_txt_folder: 폴더를 생성할 경로를 나타내는 문자열\n",
        "    # exist_ok: 이 인자는 선택적 매개변수\n",
        "    #           True : 폴더가 이미 존재하는 경우에는 FileExistsError 예외를 발생\n",
        "    #           True : 폴더가 이미 존재해도 예외를 발생시키지 않고 무시\n",
        "\n",
        "    # 해당 파일들의 리스트를 json_files 변수에 저장하는 코드\n",
        "    json_files = glob.glob(os.path.join(coco_json_folder, '*.json'))\n",
        "\n",
        "    for json_file in json_files:\n",
        "\n",
        "      # JSON 파일을 텍스트 모드로 읽어옴\n",
        "      with open(json_file, 'r') as f:\n",
        "          coco_data = json.load(f)\n",
        "\n",
        "      filename = os.path.splitext(os.path.basename(json_file))[0]\n",
        "      output_txt_path = os.path.join(output_txt_folder, filename + '.txt')\n",
        "\n",
        "      ## 읽어온 JSON 데이터를 그대로 텍스트 파일로 저장(본래 코드 - 참고용)\n",
        "      ## with open('output.txt', 'w') as f:\n",
        "      ##      f.write(json_data)\n",
        "\n",
        "      # YOLO 형식의 텍스트 파일을 생성합니다.\n",
        "      with open(output_txt_path, 'w') as f:\n",
        "\n",
        "          # COCO 데이터의 각 어노테이션(annotation)을 처리합니다.\n",
        "          for annotation in coco_data['annotations']:\n",
        "\n",
        "              # 어노테이션 정보에서 이미지 ID, 파일명, 너비, 높이, 클래스 ID, 바운딩 박스 정보를 추출합니다.\n",
        "              image_id = annotation['image_id']\n",
        "\n",
        "              ## next(iterator[, default])\n",
        "              ## -> iterator(반복자)에서 다음 요소를 반환하는 역할\n",
        "\n",
        "              image_info = next(image for image in coco_data['images'] if image['id'] == image_id)\n",
        "              # -> id 값이 image_id와 일치하는 첫 번째 이미지 정보를 가져옴\n",
        "\n",
        "              image_filename = image_info['file_name']\n",
        "              image_width = image_info['width']\n",
        "              image_height = image_info['height']\n",
        "\n",
        "              class_id = annotation['category_id']\n",
        "              bbox = annotation['bbox']\n",
        "\n",
        "              ## COCO 형식의 bounding box는 [x_min, y_min, width, height]\n",
        "              ## [왼쪽 상단 모서리의 x 좌표, 왼쪽 상단 모서리의 y 좌표, 너비, 높이]\n",
        "\n",
        "              x_center = bbox[0] + bbox[2] / 2    # x 좌표를 이미지의 너비에 대한 상대값으로 표현\n",
        "              y_center = bbox[1] + bbox[3] / 2    # y 좌표를 이미지의 높이에 대한 상대값으로 표현\n",
        "              width = bbox[2]                     # 이미지의 너비에 대한 상대값으로 표현\n",
        "              height = bbox[3]                    # 이미지의 높이에 대한 상대값으로 표현\n",
        "\n",
        "              # YOLO 형식에 맞게 바운딩 박스의 중심 좌표와 크기를 이미지의 크기로 정규화합니다.\n",
        "              x_center /= image_width\n",
        "              y_center /= image_height\n",
        "              width /= image_width\n",
        "              height /= image_height\n",
        "\n",
        "              # 이미지 파일의 전체 경로를 생성합니다.\n",
        "              image_path = os.path.join(image_folder, image_filename)\n",
        "\n",
        "              ## YOLO 형식의 bounding box는 [x_center, y_center, width, height]\n",
        "              # YOLO 텍스트 파일에 해당 이미지의 정보를 기록합니다.\n",
        "              line = f'{image_path} {x_center:.6f} {y_center:.6f} {width:.6f} {height:.6f} {class_id}\\n'\n",
        "\n",
        "              # 파일에 작성\n",
        "              f.write(line)"
      ],
      "metadata": {
        "id": "S0HTALuKL6xs"
      },
      "execution_count": 40,
      "outputs": []
    },
    {
      "cell_type": "code",
      "source": [
        "# COCO JSON 파일 경로\n",
        "coco_json_folder = '/content/drive/MyDrive/Project_3/New_Sample/라벨링데이터/TL/03/03/'\n",
        "\n",
        "# 생성할 YOLO 텍스트 파일 경로\n",
        "output_txt_folder = './txt_file_sample/'\n",
        "\n",
        "# 이미지 파일이 저장된 폴더 경로\n",
        "image_folder = '/content/drive/MyDrive/Project_3/New_Sample/원천데이터/TS/03/03/11/'"
      ],
      "metadata": {
        "id": "PekmZHsYPnt8"
      },
      "execution_count": 42,
      "outputs": []
    },
    {
      "cell_type": "code",
      "source": [
        "# 함수 실행\n",
        "convert_coco_to_yolo(coco_json_folder, output_txt_folder, image_folder)"
      ],
      "metadata": {
        "id": "7wab7c9aly0c"
      },
      "execution_count": null,
      "outputs": []
    }
  ]
}